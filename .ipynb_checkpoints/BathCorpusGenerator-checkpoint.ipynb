{
 "cells": [
  {
   "cell_type": "markdown",
   "metadata": {},
   "source": [
    "#Corpus Generator\n",
    "Generates a corpus for training using the titles of CamHarvestCollection"
   ]
  },
  {
   "cell_type": "code",
   "execution_count": 14,
   "metadata": {
    "collapsed": false
   },
   "outputs": [],
   "source": [
    "import pymongo\n",
    "from pymongo import MongoClient\n",
    "from nltk.corpus import stopwords\n",
    "import string\n",
    "import codecs\n",
    "import re\n",
    "punct_filter = dict((ord(char), u' ') for char in '\"#$%&\\'()*+,./-:;<=>?@[\\\\]^_`{|}')   \n",
    "stop = stopwords.words('english')\n",
    "mongo_url = 'mongodb://localhost:27017/'\n",
    "db = 'BathSim'\n",
    "coll_in = 'BathHarvest'\n",
    "client = MongoClient(mongo_url)\n",
    "ch = client[db][coll_in]\n",
    "corpusfile = 'corpus2.txt'"
   ]
  },
  {
   "cell_type": "code",
   "execution_count": 45,
   "metadata": {
    "collapsed": true
   },
   "outputs": [],
   "source": [
    "def title_export(string,outfile,punct_filter,stopwords):\n",
    "    string = string.lower()\n",
    "    string = string.translate(punct_filter)\n",
    "    stop_filtered = [i for i in string.split() if i not in stopwords]\n",
    "    export = u' '.join(stop_filtered)+u'\\n'\n",
    "    outfile.write(export)\n",
    "    return len(stop_filtered)"
   ]
  },
  {
   "cell_type": "code",
   "execution_count": 46,
   "metadata": {
    "collapsed": false
   },
   "outputs": [],
   "source": [
    "def abstract_export(string,outfile,punct_filter,stopwords):\n",
    "    #remove sentences with less than 5 words\n",
    "    #remove words which are just numbers \n",
    "    wc = 0\n",
    "    sentences = string.split(u'. ')\n",
    "    for s in sentences:\n",
    "        s = s.lower()\n",
    "        s = s.translate(punct_filter).rstrip(u'\\n')\n",
    "        stop_filtered = [i for i in s.split() if i not in stopwords]\n",
    "        export = u' '.join(stop_filtered)\n",
    "        export = re.sub(r\"\\b\\d+\\b\", \"\", export)\n",
    "        re_split = export.split()\n",
    "        if (len(re_split))>6:\n",
    "            export = ' '.join(re_split)+u'\\n'\n",
    "            outfile.write(export)\n",
    "            wc+=len(re_split)\n",
    "    return wc"
   ]
  },
  {
   "cell_type": "code",
   "execution_count": 47,
   "metadata": {
    "collapsed": false,
    "scrolled": true
   },
   "outputs": [
    {
     "name": "stdout",
     "output_type": "stream",
     "text": [
      "writing record : 0\n",
      "Palladium Catalysed Allylic Substitution Reactions of Allyl Acetates.\n",
      "None\n",
      "writing record : 1\n",
      "Remarkable ligand effects in regioselective palladium-catalysed allylic substitution reactions.\n",
      "None\n",
      "writing record : 2\n",
      "Palladium-Catalyzed Asymmetric Allylation and Related Reactions.\n",
      "None\n",
      "writing record : 3\n",
      "Triphenylphosphine-catalysed conversion of maleic anhydride into acrylate esters.\n",
      "Maleic anhydride has been converted into a range of acrylate esters on treatment with a suitable alcohol using triphenylphosphine as a catalyst. (C) 2003 Elsevier Science Ltd. All rights reserved.\n",
      "writing record : 4\n",
      "Renewable-surface sol-gel derived carbon ceramic-modified electrode fabricated by a newly synthesized polypyridil and phosphine Ru (II) complex and its application as an amperometric sensor for hydrazine.\n",
      "A chemically modified carbon ceramic composite electrode (CCE) containing Dichloro{(8, 9-dimethyl-dipyridio [2,3-a:2',3'-c] phenazine-kappa(2)-N,N') bis(triphenylphosphine-kappa-P)} ruthenium (II) complex which synthesized newly was constructed by the sol-gel technique. Electrochemical behavior and stability of modified CCE were investigated by cyclic voltammetry. The electrocatalytic activity of CCE was investigated and showed a good effect for oxidation of hydrazine in phosphate buffer solution (PBS). A linear concentration range of 6 mu M to 1.2 mM of hydrazine with an experimental detection limit of 1 mu M of hydrazine was obtained. The diffusion coefficient of hydrazine and its catalytic rate constant for electrocatalytic reaction along with the apparent electron transfer rate constant (k(s)) and transfer coefficient (alpha) were also determined. The modified carbon ceramic electrode doped with this new Ru-complex showed good reproducibility, short response time (t < 2 s), remarkable long-term stability (>3 month) and especially good surface renewability by simple mechanical polishing. The results showed that this electrode could be used as an electrochemical sensor for determination of hydrazine in real water samples used in Fars Power Plant Station, including its heat recovery steam generator (HRSG) water (at different operational condition), cooling system and clean waste water. (\n",
      "writing record : 5\n",
      "Palladium-catalysed enantioselective synthesis of ibuprofen.\n",
      "A general strategy has been developed for the enantioselective synthesis of alpha-aryl propanoic acids. Palladium-catalysed asymmetric allylic substitution is used as the key step of the synthesis. Compound 2a was obtained in 95% ee from the allylic substitution reaction of 1,3-diphenylprop-2-enyl acetate la with bis(phenylsulfonyl)methane, catalysed by palladium and oxazoline ligand 9. Ozonolysis, desulfonylation followed by oxidation furnished (S)-2-phenylpropanoic acid 4a without detectable loss of enantiomeric purity. The same synthetic strategy was employed to obtain Ibuprofen 4b in 87% ee, starting from acetate 1b. (C) 2002 Elsevier Science B.V. All rights reserved.\n",
      "writing record : 6\n",
      "\"Roll-on\" nano-CIGSe film electrodes in photo-hydrogenation.\n",
      "Commercial nano-CIGSe powder (nominal CuIn0.7Ga0.3Se2, average particle size <100 nm) is applied to tin-doped indium oxide (ITO) electrodes in a simple \"roll-on\" process from n-hexanol to give thin photo-electrochemically active films. Films \"as deposited\" and \"annealed\" in selenium atmosphere at 350 C are compared with the latter performing substantially better. Perhaps surprisingly, photo-transient voltammetry suggests only insignificant effects when changing aqueous electrolyte from Eu(NO3) to KNO3 or when changing electrolyte concentration, most likely due to a dominating electron-quenching process caused by dissolved dioxygen. However, when under inert argon atmosphere, generator-collector photo-transient voltammetry with a 50 μm Pt collector microelectrode placed close to the CIGSe film surface proves photo-induced H2 formation in 0.1 M KNO3 or in 0.1 M HNO3 (and it confirms electron-quenching by O2 in the presence of air). In aqueous 0.1 M HNO3 effective electron-quenching (photo-hydrogenation) with fumaric acid is observed with current yields of ca. 60% for fumarate to succinate conversion. Detrimental loss of photoelectrochemical activity (probably via photo-corrosion) with time occurs.\n",
      "writing record : 7\n",
      "Nonequilibrium phase transformations at the air-liquid interface.\n",
      "A theoretical model is presented for the formation of an ordered phase close to the air-liquid interface of an open binary aqueous solution. The chemical potential of water in the liquid phase is, in general, not equal to the chemical potential of water in the ambient atmosphere. There are therefore nonequilibrium conditions close to the air-liquid interface. There is also a gradient in the chemical potential of water, which could lead to the formation of a new interfacial phase. The formation of an interfacial phase is analyzed in terms of the equilibrium phase behavior corresponding to the local water chemical potential. The possibility of forming an interfacial phase is strongly dependent on the ambient conditions, bulk composition, and diffusive transport properties of the phases in question. Explicit calculations are presented for the formation of a lamellar liquid-crystalline phase close to the air-liquid interface of an isotropic surfactant solution with parameters chosen from the sodium bis(2-ethylhexyl)sulfosuccinate (AOT)/water system. We consider the relevance Of the model to neutron reflectivity studies of the interface between air and surfactant/water systems, as well as to surfactant/polymer/water systems.\n",
      "writing record : 8\n",
      "Ultrasonic intensification of ozone and electrochemical destruction of 1,3-dinitrobenzene and 2,4-dinitrotoluene.\n",
      "The removal of nitroaromatics from polluted water is difficult due to their high stability to conventional treatment methods. This paper presents a method for the destruction of 1,3-dinitrobenzene and 2,4-dinitrotoluene in aqueous solutions. The compounds are shown to be stable to reaction with ozone, even under ultrasonic activation. The use of ultrasound enhances the rate of electrochemical reduction but the overall rate of reaction is still slow. However, the simultaneous application of ultrasound and ozonation to the electrochemical reaction allows virtually complete destruction of the compounds in short times. The effect is attributed to the ultrasonic enhancement of the electrochemical process giving intermediates that are susceptible to ozone oxidation. While further analytical work is needed to deduce the exact contributions of the various possible degradation mechanisms, the work demonstrates the synergies that can be gained by using combined techniques for the destruction of these difficult compounds.\n",
      "writing record : 9\n",
      "Lewis acid activation of pyridines for nucleophilic aromatic substitution and conjugate addition.\n",
      "None\n",
      "writing record : 10\n",
      "Separated tandem catalysis:It's about time!\n",
      "One-pot processes in which a single catalyst carries out several reactions are attractive, but typically promote the formation of by-products as well as the desired ones, and are not amenable to optimization of the individual transformations. Now, these issues have been overcome by separating the catalytic processes in time.\n",
      "writing record : 11\n",
      "Lewis Acids for the Activation of Pyridines for Further Functionalisation.\n",
      "This thesis outlines work carried out over the past three years concerning the development of an experimentally simple, sustainable catalytic method for the functionalisation of pyridines by means of a zinc nitrate based Lewis acid. It encompasses reaction discovery and optimisation, determination of the scope of the method through nucleophile and substrate screens as well as investigations into the mechanism by which the reaction takes place. Chapter 1 gives a general overview of the industrial relevance of pyridine functionalisation as well as the synthetic methods for the synthesis of ring functionalised pyridines, covering traditional stoichiometric aromatic substitution methods, transition metal catalysed cyclisations, standard catalytic methods for the functionalisation of pyridines: Buchwald-Hartwig and Ulmann reactions, as well as a précis of some recent transition metal catalysed methods for C-H functionalisation of pyridines. It also reviews classical and transition metal catalysed methods for conjugate addition and Diels–Alder reactions of vinylpyridines. Chapter 2 involves reaction discovery for the use of Lewis acids for the activation of pyridines towards nucleophilic aromatic substitutions, reaction optimisations, kinetic investigations and an examination of the scope in substrates and incoming groups. Chapter 3 investigates the use of Lewis acids for the activation of vinylpyridines toward conjugate addition, reaction optimisations, investigations into scope of incoming groups and subsequent optimisation studies for each. The method is also extended to Diels–Alder cyclisations, for which the reaction is also optimised.\n",
      "writing record : 12\n",
      "A combined total scattering and simulation approach to analyzing defect structure in Bi3YO6.\n",
      "The defect structure and electrical properties of the fast oxide ion-conducting solid electrolyte delta-Bi3YO6 have been studied using a combination of total neutron scattering analysis, energy minimization methods, and AC impedance spectroscopy. Conventional structural analysis using the Rietveld method reveals the oxide ions to be distributed over three crystallographic sites at room temperature, with a small change in this distribution at 800 degrees C. Analysis of short-range correlations using a total neutron scattering approach yields information on Bi and Y coordination environments. Careful analysis of the angular distribution functions derived from reverse Monte Carlo modeling of the total scattering data reveals physical evidence for a predominance of < 110 > vacancy ordering in this system. This ordering is confirmed as the lowest energy configuration in parallel energy minimization simulations.\n",
      "writing record : 13\n",
      "Functional morphology of the nasal region of a hammerhead shark.\n",
      "None\n",
      "writing record : 14\n",
      "Influence of crystallinity and energetics on charge separation in polymer–inorganic nanocomposite films for solar cells.\n",
      "None\n",
      "writing record : 15\n",
      "Genome-wide analysis reveals a complex pattern of genomic imprinting in mice.\n",
      "Parent-of-origin–dependent gene expression resulting from genomic imprinting plays an important role in modulating complex traits ranging from developmental processes to cognitive abilities and associated disorders. However, while gene-targeting techniques have allowed for the identification of imprinted loci, very little is known about the contribution of imprinting to quantitative variation in complex traits. Most studies, furthermore, assume a simple pattern of imprinting, resulting in either paternal or maternal gene expression; yet, more complex patterns of effects also exist. As a result, the distribution and number of different imprinting patterns across the genome remain largely unexplored. We address these unresolved issues using a genome-wide scan for imprinted quantitative trait loci (iQTL) affecting body weight and growth in mice using a novel three-generation design. We identified ten iQTL that display much more complex and diverse effect patterns than previously assumed, including four loci with effects similar to the callipyge mutation found in sheep. Three loci display a new phenotypic pattern that we refer to as bipolar dominance, where the two heterozygotes are different from each other while the two homozygotes are identical to each other. Our study furthermore detected a paternally expressed iQTL on Chromosome 7 in a region containing a known imprinting cluster with many paternally expressed genes. Surprisingly, the effects of the iQTL were mostly restricted to traits expressed after weaning. Our results imply that the quantitative effects of an imprinted allele at a locus depend both on its parent of origin and the allele it is paired with. Our findings also show that the imprinting pattern of a locus can be variable over ontogenetic time and, in contrast to current views, may often be stronger at later stages in life.\n",
      "writing record : 16\n",
      "Contribution of maternal effect QTL to genetic architecture of early growth in mice.\n",
      "None\n",
      "writing record : 17\n",
      "What are maternal effects (and what are they not)?\n",
      "Maternal effects can play an important role in a diversity of ecological and evolutionary processes such as population dynamics, phenotypic plasticity, niche construction, life-history evolution and the evolutionary response to selection. However, although maternal effects were defined by quantitative geneticists well over half a century ago, there remains some confusion over exactly what phenomena should be characterized as maternal effects and, more importantly, why it matters and how they are defined. We suggest a definition of maternal effects as the causal influence of the maternal genotype or phenotype on the offspring phenotype. This definition differs from some definitions in that it treats maternal effects as a phenomenon, not as a statistical construct. The causal link to maternal genotype or phenotype is the critical component of this definition providing the link between maternal effects and evolutionary and ecological processes. We show why phenomena such as maternal cytoplasmic inheritance and genomic imprinting are distinct genetically from and have different evolutionary consequences than true maternal effects. We also argue that one should consider cases where the maternal effect is conditional on offspring genotype as a class of maternal effects.\n",
      "writing record : 18\n",
      "Detecting maternal-effect loci by statistical cross-fostering.\n",
      "Great progress has been made in understanding the genetic architecture of phenotypic variation, but it is almost entirely focused on how the genotype of an individual affects the phenotype of that same individual. However, in many species the genotype of the mother is a major determinant of the phenotype of her offspring. Therefore, a complete picture of genetic architecture must include these maternal genetic effects, but they can be difficult to identify because maternal and offspring genotypes are correlated and therefore, partially confounded. We present a conceptual framework that overcomes this challenge to separate direct and maternal effects in intact families through an analysis that we call \"statistical cross-fostering.\" Our approach combines genotype data from mothers and their offspring to remove the confounding effects of the offspring's own genotype on measures of maternal genetic effects. We formalize our approach in an orthogonal model and apply this model to an experimental population of mice. We identify a set of six maternal genetic effect loci that explain a substantial portion of variation in body size at all ages. This variation would be missed in an approach focused solely on direct genetic effects, but is clearly a major component of genetic architecture. Our approach can easily be adapted to examine maternal effects in different systems, and because it does not require experimental manipulation, it provides a framework that can be used to understand the contribution of maternal genetic effects in both natural and experimental populations.\n",
      "writing record : 19\n",
      "A framework for detecting and characterizing genetic background-dependent imprinting effects.\n",
      "None\n",
      "writing record : 20\n",
      "Cyto-nuclear interactions can favor the evolution of genomic imprinting.\n",
      "Interactions between cytoplasmic (generally organelle) and nuclear genomes may be relatively common and could potentially have major fitness consequences. As in the case of within-genome epistasis, this cytonuclear epistasis can favor the evolutionary coadaptation of high-fitness combinations of nuclear and cytoplasmic alleles. Because cytoplasmic factors are generally uniparentally inherited, the cytoplasmic genome is inherited along with only one of the nuclear haplotypes, and therefore, coadaptation is expected to evolve through the interaction of these coinherited (usually maternally inherited) genomes. Here I show that, as a result of this coinheritance of the two genomes, cytonuclear epistasis can favor the evolution of genomic imprinting such that, when the cytoplasmic factor is maternally inherited, selection favors maternal expression of the nuclear locus and when the factor is paternally inherited selection favors paternal expression. Genomic imprinting evolves in this model because it leads to a pattern of gene expression in the nuclear haplotype that is coadapted with (i.e., adaptively coordinated with) gene expression in the coinherited cytoplasmic genome.\n",
      "writing record : 21\n",
      "The genotype-environment interaction and evolution when the environment contains genes.\n",
      "None\n",
      "writing record : 22\n",
      "On the assignment of fitness to parents and offspring: Whose fitness is it and when does it matter?\n",
      "There has been a long-standing conceptual debate over the legitimacy of assigning components of offspring fitness to parents for purposes of evolutionary analysis. The benefits and risks inherent in assigning fitness of offspring to parents have been given primarily as verbal arguments and no explicit theoretical analyses have examined quantitatively how the assignment of fitness can affect evolutionary inferences. Using a simple quantitative genetic model, we contrast the conclusions drawn about how selection acts on a maternal character when components of offspring fitness (such as early survival) are assigned to parents vs. when they are assigned directly to the individual offspring. We find that there are potential shortcomings of both possible assignments of fitness. In general, whenever there is a genetic correlation between the parental and direct effects on offspring fitness, assigning components of offspring fitness to parents yields incorrect dynamical equations and may even lead to incorrect conclusions about the direction of evolution. Assignment of offspring fitness to parents may also produce incorrect estimates of selection whenever environmental variation contributes to variance of the maternal trait. Whereas assignment of offspring fitness to the offspring avoids these potential problems, it introduces the possible problem of missing components of kin selection provided by the mother, which may not be detected in selection analyses. There are also certain conditions where either model can be appropriate because assignment of offspring fitness to parents may yield the same dynamical equations as assigning offspring fitness directly to offspring. We discuss these implications of the alternative assignments of fitness for modelling, selection analysis and experimentation in evolutionary biology.\n",
      "writing record : 23\n",
      "Imprinted gene expression in hybrids : perturbed mechanisms and evolutionary implications.\n",
      "Diverse mechanisms contribute to the evolution of reproductive barriers, a process that is critical in speciation. Amongst these are alterations in gene products and in gene dosage that affect development and reproductive success in hybrid offspring. Because of its strict parent-of-origin dependence, genomic imprinting is thought to contribute to the aberrant phenotypes observed in interspecies hybrids in mammals and flowering plants, when the abnormalities depend on the directionality of the cross. In different groups of mammals, hybrid incompatibility has indeed been linked to loss of imprinting. Aberrant expression levels have been reported as well, including imprinted genes involved in development and growth. Recent studies in humans emphasize that genetic diversity within a species can readily perturb imprinted gene expression and phenotype as well. Despite novel insights into the underlying mechanisms, the full extent of imprinted gene perturbation still remains to be determined in the different hybrid systems. Here we review imprinted gene expression in intra- and interspecies hybrids and examine the evolutionary scenarios under which imprinting could contribute to hybrid incompatibilities. We discuss effects on development and reproduction and possible evolutionary implications.\n",
      "writing record : 24\n",
      "Developmental interactions and the constituents of quantitative variation.\n",
      "None\n",
      "writing record : 25\n",
      "[Book Review]: Evolutionary Computation: A Unified Approach.\n",
      "None\n",
      "writing record : 26\n",
      "Selective abortion and the evolution of genomic imprinting.\n",
      "Mothers can determine which genotypes of offspring they will produce through selective abortion or selective implantation. This process can, at some loci, favour matching between maternal and offspring genotype whereas at other loci mismatching may be favoured (e.g. MHC, HLA). Genomic imprinting generally renders gene expression monoallelic and could thus be adaptive at loci where matching or mismatching is beneficial. This hypothesis, however, remains unexplored despite evidence that loci known to play a role in genetic compatibility may be imprinted. We develop a simple model demonstrating that, when matching is beneficial, imprinting with maternal expression is adaptive because the incompatible paternal allele is not detected, protecting offspring from selective abortion. Conversely, when mismatching is beneficial, imprinting with paternal expression is adaptive because the maternal genotype is more able to identify the presence of a foreign allele in offspring. Thus, imprinting may act as a genomic 'cloaking device' during critical periods in development when selective abortion is possible.\n",
      "writing record : 27\n",
      "Gene interactions in the evolution of genomic imprinting.\n",
      "Numerous evolutionary theories have been developed to explain the epigenetic phenomenon of genomic imprinting. Here, we explore a subset of theories wherein non-additive genetic interactions can favour imprinting. In the simplest genic interaction-the case of underdominance-imprinting can be favoured to hide effectively low-fitness heterozygous genotypes; however, as there is no asymmetry between maternally and paternally inherited alleles in this model, other means of enforcing monoallelic expression may be more plausible evolutionary outcomes than genomic imprinting. By contrast, more successful interaction models of imprinting rely on an asymmetry between the maternally and paternally inherited alleles at a locus that favours the silencing of one allele as a means of coordinating the expression of high-fitness allelic combinations. For example, with interactions between autosomal loci, imprinting functionally preserves high-fitness genotypes that were favoured by selection in the previous generation. In this scenario, once a focal locus becomes imprinted, selection at interacting loci favours a matching imprint. Uniparental transmission generates similar asymmetries for sex chromosomes and cytoplasmic factors interacting with autosomal loci, with selection favouring the expression of either maternal or paternally derived autosomal alleles depending on the pattern of transmission of the uniparentally inherited factor. In a final class of models, asymmetries arise when genes expressed in offspring interact with genes expressed in one of its parents. Under such a scenario, a locus evolves to have imprinted expression in offspring to coordinate the interaction with its parent's genome. We illustrate these models and explore key links and differences using a unified framework.\n",
      "writing record : 28\n",
      "The role of social effects in selection for animal improvement.\n",
      "Quantitative genetics can be used to understand how traits will respond to artificial selection regimes, and therefore, it can be an important tool in the development of selective breeding programs for animal improvement. In order to predict the response to selection, the traditional approach in quantitative genetics partitions phenotypic variation into a heritable genetic component that contributes to the response and a non-heritable environmental component that does not. However, there is an increasing recognition that environmental variation contributed by the social environment provided by conspecifics can ultimately originate from genetically heritably traits in a population of interacting individuals, blurring the distinction between genetic and environmental variation. The presence of these 'social effects' on trait expression means the environment can provide a source of heritable variation that can contribute to trait evolution. Under some conditions, such as when there is competition, the social effects of genotypes on the phenotypes of other individuals may oppose their direct effects on their own phenotypes and, as a result, the evolution of social effects can oppose the evolution of direct genetic effects and thereby can impede the response to selection. Furthermore, when the social effects of genotypes are uncorrelated with their direct effect, the heritable variance contributed by social effects will not contribute to a response to selection on individuals, meaning that a major part of the genetic variance in a population can be unavailable to selective breeding. These constraints can be overcome by using populations of related individuals or through group selection approaches that allow for the social effects to contribute to a response to selection.\n",
      "writing record : 29\n",
      "Allozyme analysis of Haemonchus contortus resistant and susceptible to anthelmintics, with an indication of dipeptidases associated with resistance.\n",
      "Summary: In an attempt to investigate the genetic and biochemical causes underlying resistance to anthelmintics, the trichostrongylid nematode Haemonchus contortus was examined by an allozymic analysis of nine candidate geneenzyme systems. Two strains resistant to benzimidazoles, two multidrug-resistant strains, and three strains susceptible to anthelmintics isolated from three continents were examined by isoelectric focusing. Two enzymes (mannose phosphate isomerase and peptidase-D) had polymorphic patterns. The peptidase-D zymograms indicated an association with the selection for resistance. Susceptible isolates gave more complex patterns due to the formation of a heterodimer controlled by the two active loci, whereas in resistant isolates, only a single locus with one electromorph was responsible for the profiles. A possible link between dipeptidases and the acquisition of resistance through the turnover of proteinrich collagen, and changes in membrane-associated genes that influence drug efflux, are discussed.\n",
      "writing record : 30\n",
      "Epistatic pleiotropy and the genetic architecture of covariation within early - and late-developing skull trait complexes in mice.\n",
      "None\n",
      "writing record : 31\n",
      "Multivariate phenotypic evolution in developmental hyperspace.\n",
      "None\n",
      "writing record : 32\n",
      "New aspects of the role of MR/P fimbriae in Proteus mirabilis urinary tract infection.\n",
      "Proteus mirabilis, a common cause of urinary tract infection (UTI), produces a number of different fimbriae including mannose-resistant Proteus-like fimbriae (MR/P). The precise role of different P. mirabilis fimbriae in ascending UTI has not yet been elucidated. In this study, a clinical isolate of P. mirabilis and an isogenic mutant unable to express MR/P were tested using different experimental approaches. They were tested for their ability to cause infection in an ascending co-infection model of UTI and in a haematogenous model in the mouse. In both models, the mutant was less able than the wild-type strain to colonise the lower and upper urinary tracts although infectivity was not abolished. In vitro adherence to uroepithelial cells was also assessed. Significant differences in adherence between both strains were observed at 1 h but not at 15 min post infection. We have also shown that a wild-type strain carries two copies of the mrpA gene. These data reinforce the importance of MR/P fimbriae in P. mirabilis UTI although other virulence factors may be necessary for efficient colonisation and development of infection.\n",
      "writing record : 33\n",
      "Ecological immunology of fungal infections in Drosophila.\n",
      "Organisms face a constant risk of attack from parasites. While classic immunology has revealed numerous physiological and molecular mechanisms that underpin host immunity, the recently developed field of ecological immunology has attempted to understand the ecological and evolutionary causes that explain the diversity of such immune mechanisms. However, progress in the field has been hampered by the complex relationship between immunity and fitness as well as the methodological limitations of our experiments. There is an urgent need for eco-immunological studies that combine life history theory with experimentally tractable but ecologically realistic host and pathogen models. In this thesis, I tackle three novel aspects of host defence against parasites in an established model for insect immunity, the fruit fly Drosophila melanogaster, with the entomopathogenic fungus Metarhizium robertsii, one of the most successful natural insect pathogens. In particular, I show in Chapter 2 that an immune and stress response gene, Turandot M, provides specific immunity against sexually transmitted fungal infections; but, this protective effect comes at a cost to life history in the absence of infection. In Chapter 3, I show that when exposed to the fungal pathogen, the fruit fly alters its temperature preference by seeking out cooler temperatures, which results in a dramatic shift in its life history strategy while simultaneously enhancing antifungal resistance, though not tolerance. Finally, I demonstrate in Chapter 4 that exposure to fungal parasites induces fitness-associated maternal effects on offspring meiotic recombination and life history, both of which have the potential to accelerate adaptive evolution. Taken together, these results demonstrate the benefits of integrating life history theory in eco-immunological research. They show that life history responses are an integral component of host defence against parasites, and that Drosophila-Metarhizium is a promising model system for ecological immunology\n",
      "writing record : 34\n",
      "Mannose-resistant Proteus-like and P. mirabilis fimbriae have specific and additive roles in P. mirabilis urinary tract infections.\n",
      "Proteus mirabilis is an important uropathogen that can cause complicated urinary tract infections (UTI). It produces several types of fimbriae, including mannose-resistant Proteus-like (MR/P) fimbriae and P. mirabilis fimbriae (PMF). Previously, we determined that these fimbriae affect the ability of P. mirabilis to colonize the urinary tract. The objective of this study was to analyse the effect of the simultaneous lack of P. mirabilis MR/P and PMF fimbriae in UTI pathogenesis. A double mutant lacking both fimbriae was generated by allelic replacement mutagenesis. This mutant was characterized genetically and phenotypically, and tested using an in vitro uroepithelial cell adhesion assay and the ascending UTI murine model. In vitro adhesion to uroepithelial cells by the P. mirabilis pmfA/mrpA-D mutant was reduced when compared with the wild-type, although no significant differences were observed when it was compared with the single mrpA-D and pmfA mutants. However, in vivo assays showed that colonization of kidneys and bladders by the P. mirabilis pmfA/mrpA-D mutant was significantly reduced when compared with the wild-type and both single mutants. These results indicate that, although redundancy can occur, MR/P and PMF fimbriae have specific and additive roles in P. mirabilis UTI.\n",
      "writing record : 35\n",
      "Immune anticipation of mating in Drosophila:Turandot M promotes immunity against sexually transmitted fungal infections.\n",
      "None\n",
      "writing record : 36\n",
      "Stress-induced recombination and the mechanism of evolvability.\n",
      "The concept of evolvability is controversial. To some, it is simply a measure of the standing genetic variation in a population and can be captured by the narrow-sense heritability (h(2)). To others, evolvability refers to the capacity to generate heritable phenotypic variation. Many scientists, including Darwin, have argued that environmental variation can generate heritable phenotypic variation. However, their theories have been difficult to test. Recent theory on the evolution of sex and recombination provides a much simpler framework for evaluating evolvability. It shows that modifiers of recombination can increase in prevalence whenever low fitness individuals produce proportionately more recombinant offspring. Because recombination can generate heritable variation, stress-induced recombination might be a plausible mechanism of evolvability if populations exhibit a negative relationship between fitness and recombination. Here we use the fruit fly, Drosophila melanogaster, to test for this relationship. We exposed females to mating stress, heat shock or cold shock and measured the temporary changes that occurred in reproductive output and the rate of chromosomal recombination. We found that each stress treatment increased the rate of recombination and that heat shock, but not mating stress or cold shock, generated a negative relationship between reproductive output and recombination rate. The negative relationship was absent in the low-stress controls, which suggests that fitness and recombination may only be associated under stressful conditions. Taken together, these findings suggest that stress-induced recombination might be a mechanism of evolvability.\n",
      "writing record : 37\n",
      "Proteus mirabilis fimbriae (PMF) are important for both bladder and kidney colonization in mice.\n",
      "Proteus mirabilis expresses different types of fimbriae simultaneously. Several fimbrial types have been described and their role in the colonization of the urinary tract is under study. Previously, P. mirabilis fimbriae (PMF) have been shown to be associated with bacterial colonization of the lower urinary tract but not of the kidneys. In this study, a pmfA mutant was generated and used in several in vivo and in vitro studies. Two different urinary tract infection models in the mouse and two in vitro assays of bacterial adhesion to uroepithelial cells were performed. Expression of PmfA in a collection of P. mirabilis strains of different sources was also assessed. The results shown here indicate that PMF are involved in both bladder and kidney colonization by P. mirabilis and that these fimbriae are widely distributed among P. mirabilis isolates from different origins since all strains tested expressed PmfA.\n",
      "writing record : 38\n",
      "Noisy splicing, more than expression regulation, explains why some exons are subject to nonsense-mediated mRNA decay.\n",
      "Background: Nonsense-mediated decay is a mechanism that degrades mRNAs with a premature termination codon. That some exons have premature termination codons at fixation is paradoxical: why make a transcript if it is only to be destroyed? One model supposes that splicing is inherently noisy and spurious transcripts are common. The evolution of a premature termination codon in a regularly made unwanted transcript can be a means to prevent costly translation. Alternatively, nonsense-mediated decay can be regulated under certain conditions so the presence of a premature termination codon can be a means to up-regulate transcripts needed when nonsense-mediated decay is suppressed. Results: To resolve this issue we examined the properties of putative nonsense-mediated decay targets in humans and mice. We started with a well-annotated set of protein coding genes and found that 2 to 4% of genes are probably subject to nonsense-mediated decay, and that the premature termination codon reflects neither rare mutations nor sequencing artefacts. Several lines of evidence suggested that the noisy splicing model has considerable relevance: 1) exons that are uniquely found in nonsense-mediated decay transcripts (nonsense-mediated decay-specific exons) tend to be newly created; 2) have low-inclusion level; 3) tend not to be a multiple of three long; 4) belong to genes with multiple splice isoforms more often than expected; and 5) these genes are not obviously enriched for any functional class nor conserved as nonsense-mediated decay candidates in other species. However, nonsense-mediated decay-specific exons for which distant orthologous exons can be found tend to have been under purifying selection, consistent with the regulation model. Conclusion: We conclude that for recently evolved exons the noisy splicing model is the better explanation of their properties, while for ancient exons the nonsense-mediated decay regulated gene expression is a viable explanation.\n",
      "writing record : 39\n",
      "Genes that escape X-inactivation in humans have high intraspecific variability in expression, are associated with mental impairment but are not slow evolving.\n",
      "None\n",
      "writing record : 40\n",
      "Identification of an extracellular acid trehalase and its gene involved in fungal pathogenesis of Metarizium anisopliae.\n",
      "None\n",
      "writing record : 41\n",
      "Nonsense-mediated decay targets have multiple sequence-related features that can inhibit translation.\n",
      "Nonsense-mediated mRNA decay (NMD) is a surveillance system that eliminates transcripts with premature termination codons. In this study, we show that mRNAs targeted by NMD are also suppressed at the translational level. The low translational efficiency (TE) is a consequence of multiple features acting in concert, including low translation initiation rate, mediated by 5` secondary structure and by use of weak initiation sites, and low translation elongation speed, mediated by low codon usage bias. Despite low elongation rates, NMD transcripts show low ribosome density in the coding sequence, probably owing to low initiation rates, high abortion rates or rapid transit of the ribosome following initiation failure. The low TE is observed in the absence of NMD and is not explained by low transcript abundance. Translational inefficiency is flexible, such that NMD targets have increased TE upon starvation. We propose that the low TE predisposes to NMD and/or that it is part of a mechanism for regulation of NMD transcripts.\n",
      "writing record : 42\n",
      "Roles of individual enzyme-substrate interactions by alpha-1,3-galactosyltransferase in catalysis and specificity.\n",
      "None\n",
      "writing record : 43\n",
      "Raman optical activity and circular dichroism reveal dramatic differences in the influence of divalent copper and manganese ions on prion protein folding.\n",
      "The binding of divalent copper ions to the full-length recombinant murine prion protein PrP23-231 at neutral pH was studied using vibrational Raman optical activity (ROA) and ultraviolet circular dichroism (UV CD). The effect of the Cu2+ ions on PrP structure depends on whether they are added after refolding of the protein in water or are present during the refolding process. In the first case ROA reveals that the hydrated α-helix is lost, with UV CD revealing a drop from ∼25% to ∼18% in the total α-helix content. The lost α-helix could be that comprising residues 145-156, located within the region associated with scrapie PrP formation. In the second case, ROA reveals the protein's structure to be almost completely disordered/irregular, with UV CD revealing a drop in total α-helix content to ∼5%. Hence, although Cu2+ binding takes place exclusively within the unfolded/disordered N-terminal region, it can profoundly affect the structure of the folded/α-helical C-terminal region. This is supported by the finding that refolding in the presence of Cu2+ of a mutant in which the first six histidines associated with copper binding to the N-terminal region are replaced by alanine has a similar α-helix content to the metal-free protein. In contrast, when the protein is refolded in the presence of divalent manganese ions, ROA indicates the α-helix is reinforced, with UV CD revealing an increase in total α-helix content to ∼30%. The very different influence of Cu2+ and Mn2+ ions on prion protein structure may originate in the different stability constants and geometries of their complexes.\n",
      "writing record : 44\n",
      "Roles of active site tryptophans in substrate binding and catalysis by alpha-1,3 galactosyltransferase.\n",
      "None\n",
      "writing record : 45\n",
      "Epigenetic regulation of the Wnt signaling inhibitor DACT2 in human hepatocellular carcinoma.\n",
      "None\n",
      "writing record : 46\n",
      "The O antigen is a critical antigen for the development of a protective immune response to Bordetella parapertussis.\n",
      "None\n",
      "writing record : 47\n",
      "Protein-protein interactions in GCR1 signalling in arabidopsis thaliana.\n",
      "The G-protein coupled receptors (GPCRs) are seven-transmembrane receptors that transduce signals from the cell surface to intracellular effectors. There are more than 1000 GPCRs in metazoans, while no GPCR has been definitively identified in plants. The most promising plant GPCR candidate, Arabidopsis G-protein coupled receptor 1 (GCR1), physically couples to the G-protein < subunit GPA1 and is involved in cell cycle regulation, blue light and phytohormone responses, but its signalling network remains largely unknown. This project aimed to achieve a better understanding of GCR1 signalling by identifying its interactors using a novel yeast two hybrid system – the Ras Recruitment System (RRS). Screening of an Arabidopsis cDNA library using a bait comprising intracellular loop 1 (i1) and 2 (i2) of GCR1 resulted in the isolation of 20 potential interactors. Extensive reconfirmation screening demonstrated that three of these interactors: Thioredoxin h3 (TRX3), Thioredoxin h4 (TRX4) and a DHHC type zinc finger family protein (zf-DHHC1) interact specifically with both i1 and i2 of GCR1. This was supported by the reverse RRS (rRRS) and 6xHis-pull-down assays. It is speculated that TRX3 and TRX4, which can reduce disulfide bridges of target proteins and act as powerful antioxidants, may regulate GCR1-mediated signalling events in response to oxidative stress. Alternatively, they may modulate GCR1 targeting or signalling through their chaperone activities. zf-DHHC1 has a predicted membrane topography that is shared by most DHHC domain-containing palmitoyl acyl transferases. It may modify GCR1 activity through palmitoylation of the two cysteines located at the cytoplasmic end of the first transmembrane domain. Together, these findings contribute to the growing understanding of the GCR1 signalling network, and provide valuable starting points for further investigation.\n",
      "writing record : 48\n",
      "Comparative analyses of song complexity and song-control nuclei in fourteen oscine species.\n",
      "Most studies on the relationship between measures of song behavior and the sizes of song control nuclei have focused on one or two oscine species, and often show inconsistent results. To address this issue, we first measured four variables for song complexity, i.e., song repertoire size, syllable repertoire size, the mean number of syllables per phrase (MNS) and the number of syllables in the longest phrase (INSLP), and the sizes of three song control nuclei, i.e., HVC, RA (the robust nucleus of the arcopallium), and Area X in 14 oscine species from eight families. To tackle the problem of statistical non-independence that probably existed among the closely related species, we reconstructed the phylogeny of the species studied using mitochondrial cytochrome b DNA sequences from GenBank. By using the methods adopted in most previous reports, we tested the relationship between song complexity and the sizes of the song control nuclei. We found that: 1) the absolute sizes of RA and Area X, but not of HVC, were positively correlated to the three measures of song complexity, but that only the residual size of RA in regard to telencephalon size was significantly correlated to the song measures; 2) independent contrasts analysis showed RA and Area X to be significantly associated with NSLP. Our results indicated that the relationship between song behavior and its neural structures varied among song nuclei, suggesting that each song control nucleus may play a different role in song behavior.\n",
      "writing record : 49\n",
      "High affinity copper binding by stefin B (cystatin B) and its role in the inhibition of amyloid fibrillation.\n",
      "None\n",
      "Corpus Generated with 3844 words\n"
     ]
    }
   ],
   "source": [
    "cursor = ch.find()\n",
    "ind = 0\n",
    "word_count = 0\n",
    "with codecs.open(corpusfile, 'a',encoding='utf8') as outfile:\n",
    "    for rec in cursor:\n",
    "        word_count+=title_export(rec['title'],outfile,punct_filter,stop)\n",
    "        if rec['abstract']:\n",
    "            word_count+=abstract_export(rec['abstract'],outfile,punct_filter,stop)\n",
    "        print('writing record : '+ str(ind))\n",
    "        ind+=1\n",
    "print('Corpus Generated with '+ str(word_count) +' words')"
   ]
  },
  {
   "cell_type": "code",
   "execution_count": 41,
   "metadata": {
    "collapsed": false
   },
   "outputs": [
    {
     "name": "stdout",
     "output_type": "stream",
     "text": [
      "systemic sclerosis ssc connective tissue disease unknown aetiology characterized fibrosis skin internal organs vascular abnormalities humoral autoimmunity\n",
      "systemic sclerosis ssc connective tissue disease unknown aetiology characterized fibrosis skin internal organs vascular abnormalities humoral autoimmunity\n",
      "strong cell dependent autoantibody hla associations found ssc subsets\n",
      "strong cell dependent autoantibody hla associations found ssc subsets\n",
      "co stimulatory molecule cd86 expressed antigen presenting cells plays crucial role priming naïve lymphocytes\n",
      "co stimulatory molecule cd86 expressed antigen presenting cells plays crucial role priming naïve lymphocytes\n",
      "hypothesized ssc one disease subsets could associated single nucleotide polymorphisms cd86 gene\n",
      "hypothesized ssc one disease subsets could associated single nucleotide polymorphisms cd86 gene\n",
      "using sequence specific primer polymerase chain reaction ssp pcr methodology assessed four cd86 polymorphisms 221 patients ssc 227 healthy control subjects uk\n",
      "using sequence specific primer polymerase chain reaction ssp pcr methodology assessed four cd86 polymorphisms patients ssc healthy control subjects uk\n",
      "haplotypes constructed inference confirmed using phase algorithm\n",
      "haplotypes constructed inference confirmed using phase algorithm\n",
      "found strong association ssc specific haplotype haplotype 5 prevalent patients controls 29 vs 15 2 3 chi 2 12 p 0 0005\n",
      "found strong association ssc specific haplotype haplotype prevalent patients controls vs chi p\n",
      "association could attributed novel 3479 promoter polymorphism significant difference observed distribution cd86 3479 g allele patients ssc compared controls 43 7 vs\n",
      "association could attributed novel promoter polymorphism significant difference observed distribution cd86 g allele patients ssc compared controls vs\n",
      "32 4 1 7 chi 2 12 1 p 0 0005\n",
      "chi p\n",
      "transfac analyses suggest cd86 3479t allele contains putative gata tbp sites whereas g allele\n",
      "transfac analyses suggest cd86 3479t allele contains putative gata tbp sites whereas g allele\n",
      "assessed relative dna protein binding activity 3479 polymorphism vitro using electromobility gel shift assays emsa showed 3479g allele less binding affinity compared allele nuclear proteins\n",
      "assessed relative dna protein binding activity polymorphism vitro using electromobility gel shift assays emsa showed 3479g allele less binding affinity compared allele nuclear proteins\n",
      "findings highlight importance co stimulatory pathways ssc pathogenesis\n",
      "findings highlight importance co stimulatory pathways ssc pathogenesis\n"
     ]
    },
    {
     "data": {
      "text/plain": [
       "8"
      ]
     },
     "execution_count": 41,
     "metadata": {},
     "output_type": "execute_result"
    }
   ],
   "source": [
    "import re\n",
    "def abstract_export(string,outfile,punct_filter,stopwords):\n",
    "    #remove sentences with less than 5 words\n",
    "    #remove words which are just numbers \n",
    "    wc = 0\n",
    "    sentences = string.split(u'. ')\n",
    "    for s in sentences:\n",
    "        s = s.lower()\n",
    "        s = s.translate(punct_filter).rstrip(u'\\n')\n",
    "        stop_filtered = [i for i in s.split() if i not in stopwords]\n",
    "        export = u' '.join(stop_filtered)\n",
    "        export = re.sub(r\"\\b\\d+\\b\", \"\", export)\n",
    "        re_split = export.split()\n",
    "        if (len(re_split))>6:\n",
    "            export = ' '.join(re_split+u'\\n'\n",
    "            outfile.write(export)\n",
    "            wc+=len(re_split)\n",
    "    return wc"
   ]
  },
  {
   "cell_type": "code",
   "execution_count": null,
   "metadata": {
    "collapsed": true
   },
   "outputs": [],
   "source": []
  },
  {
   "cell_type": "code",
   "execution_count": null,
   "metadata": {
    "collapsed": true
   },
   "outputs": [],
   "source": []
  }
 ],
 "metadata": {
  "kernelspec": {
   "display_name": "Python 2",
   "language": "python",
   "name": "python2"
  },
  "language_info": {
   "codemirror_mode": {
    "name": "ipython",
    "version": 2
   },
   "file_extension": ".py",
   "mimetype": "text/x-python",
   "name": "python",
   "nbconvert_exporter": "python",
   "pygments_lexer": "ipython2",
   "version": "2.7.10"
  }
 },
 "nbformat": 4,
 "nbformat_minor": 0
}
